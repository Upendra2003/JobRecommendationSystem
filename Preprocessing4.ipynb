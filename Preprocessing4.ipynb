{
 "cells": [
  {
   "cell_type": "code",
   "execution_count": 4,
   "id": "a23134db",
   "metadata": {},
   "outputs": [],
   "source": [
    "import numpy as np\n",
    "import pandas as pd"
   ]
  },
  {
   "cell_type": "code",
   "execution_count": 5,
   "id": "0738944f",
   "metadata": {},
   "outputs": [
    {
     "data": {
      "text/html": [
       "<div>\n",
       "<style scoped>\n",
       "    .dataframe tbody tr th:only-of-type {\n",
       "        vertical-align: middle;\n",
       "    }\n",
       "\n",
       "    .dataframe tbody tr th {\n",
       "        vertical-align: top;\n",
       "    }\n",
       "\n",
       "    .dataframe thead th {\n",
       "        text-align: right;\n",
       "    }\n",
       "</style>\n",
       "<table border=\"1\" class=\"dataframe\">\n",
       "  <thead>\n",
       "    <tr style=\"text-align: right;\">\n",
       "      <th></th>\n",
       "      <th>Index</th>\n",
       "      <th>Rating</th>\n",
       "      <th>Company Name</th>\n",
       "      <th>Job Title</th>\n",
       "      <th>Salary</th>\n",
       "      <th>Salaries Reported</th>\n",
       "      <th>Location</th>\n",
       "      <th>Employment Status</th>\n",
       "      <th>Job Roles</th>\n",
       "    </tr>\n",
       "  </thead>\n",
       "  <tbody>\n",
       "    <tr>\n",
       "      <th>0</th>\n",
       "      <td>0</td>\n",
       "      <td>3.9</td>\n",
       "      <td>Zibtek</td>\n",
       "      <td>Mobile Software Developer</td>\n",
       "      <td>200000</td>\n",
       "      <td>1</td>\n",
       "      <td>Bangalore</td>\n",
       "      <td>Full Time</td>\n",
       "      <td>SDE</td>\n",
       "    </tr>\n",
       "    <tr>\n",
       "      <th>1</th>\n",
       "      <td>1</td>\n",
       "      <td>3.8</td>\n",
       "      <td>LTI</td>\n",
       "      <td>Python Software Engineer - Intern</td>\n",
       "      <td>60000</td>\n",
       "      <td>1</td>\n",
       "      <td>Bangalore</td>\n",
       "      <td>Intern</td>\n",
       "      <td>SDE</td>\n",
       "    </tr>\n",
       "    <tr>\n",
       "      <th>2</th>\n",
       "      <td>2</td>\n",
       "      <td>4.1</td>\n",
       "      <td>Siemens</td>\n",
       "      <td>Software Engineer(Python Developer)</td>\n",
       "      <td>1800000</td>\n",
       "      <td>1</td>\n",
       "      <td>Bangalore</td>\n",
       "      <td>Full Time</td>\n",
       "      <td>SDE</td>\n",
       "    </tr>\n",
       "    <tr>\n",
       "      <th>3</th>\n",
       "      <td>3</td>\n",
       "      <td>3.3</td>\n",
       "      <td>Infosys</td>\n",
       "      <td>Senior Python Developer/Software Engineer</td>\n",
       "      <td>500000</td>\n",
       "      <td>1</td>\n",
       "      <td>Bangalore</td>\n",
       "      <td>Full Time</td>\n",
       "      <td>SDE</td>\n",
       "    </tr>\n",
       "    <tr>\n",
       "      <th>4</th>\n",
       "      <td>4</td>\n",
       "      <td>3.8</td>\n",
       "      <td>LTI</td>\n",
       "      <td>Senior Python Developer/Software Engineer</td>\n",
       "      <td>744000</td>\n",
       "      <td>1</td>\n",
       "      <td>Bangalore</td>\n",
       "      <td>Full Time</td>\n",
       "      <td>SDE</td>\n",
       "    </tr>\n",
       "  </tbody>\n",
       "</table>\n",
       "</div>"
      ],
      "text/plain": [
       "   Index  Rating Company Name                                  Job Title  \\\n",
       "0      0     3.9       Zibtek                  Mobile Software Developer   \n",
       "1      1     3.8          LTI          Python Software Engineer - Intern   \n",
       "2      2     4.1      Siemens        Software Engineer(Python Developer)   \n",
       "3      3     3.3      Infosys  Senior Python Developer/Software Engineer   \n",
       "4      4     3.8          LTI  Senior Python Developer/Software Engineer   \n",
       "\n",
       "    Salary  Salaries Reported   Location Employment Status Job Roles  \n",
       "0   200000                  1  Bangalore         Full Time       SDE  \n",
       "1    60000                  1  Bangalore            Intern       SDE  \n",
       "2  1800000                  1  Bangalore         Full Time       SDE  \n",
       "3   500000                  1  Bangalore         Full Time       SDE  \n",
       "4   744000                  1  Bangalore         Full Time       SDE  "
      ]
     },
     "execution_count": 5,
     "metadata": {},
     "output_type": "execute_result"
    }
   ],
   "source": [
    "df=pd.read_csv('Reduced_salary_list.csv')\n",
    "df.rename(columns={'Unnamed: 0':'Index'},inplace=True)\n",
    "df.head()"
   ]
  },
  {
   "cell_type": "code",
   "execution_count": 152,
   "id": "4279abad",
   "metadata": {},
   "outputs": [],
   "source": [
    "# filtered_df=df[(df['Salary']>=400000) & (df['Job Roles']=='SDE') & (df['Location']=='Bangalore')].index[0]"
   ]
  },
  {
   "cell_type": "markdown",
   "id": "48517a5a",
   "metadata": {},
   "source": [
    "# Vectorization"
   ]
  },
  {
   "cell_type": "code",
   "execution_count": 153,
   "id": "8a009556",
   "metadata": {},
   "outputs": [],
   "source": [
    "df['tags'] = df['Job Roles'] + ' ' + df['Employment Status'] + ' ' + df['Location'] + ' ' + df['Salary'].astype(str)"
   ]
  },
  {
   "cell_type": "code",
   "execution_count": 154,
   "id": "e3b667a3",
   "metadata": {},
   "outputs": [
    {
     "data": {
      "text/plain": [
       "'SDE Full Time Bangalore 200000'"
      ]
     },
     "execution_count": 154,
     "metadata": {},
     "output_type": "execute_result"
    }
   ],
   "source": [
    "df.tags[0]"
   ]
  },
  {
   "cell_type": "code",
   "execution_count": 155,
   "id": "66692a8a",
   "metadata": {},
   "outputs": [],
   "source": [
    "df['tags']=df['tags'].apply(lambda x:x.lower())"
   ]
  },
  {
   "cell_type": "code",
   "execution_count": 156,
   "id": "5eeb78e3",
   "metadata": {},
   "outputs": [],
   "source": [
    "from sklearn.feature_extraction.text import CountVectorizer\n",
    "cv=CountVectorizer(max_features=200,stop_words='english')"
   ]
  },
  {
   "cell_type": "code",
   "execution_count": 157,
   "id": "3104f435",
   "metadata": {},
   "outputs": [],
   "source": [
    "vectors=cv.fit_transform(df['tags']).toarray()"
   ]
  },
  {
   "cell_type": "code",
   "execution_count": 158,
   "id": "a0a2a0fa",
   "metadata": {},
   "outputs": [
    {
     "data": {
      "text/plain": [
       "(990, 128)"
      ]
     },
     "execution_count": 158,
     "metadata": {},
     "output_type": "execute_result"
    }
   ],
   "source": [
    "vectors.shape"
   ]
  },
  {
   "cell_type": "code",
   "execution_count": 159,
   "id": "22ab0514",
   "metadata": {
    "scrolled": true
   },
   "outputs": [
    {
     "data": {
      "text/plain": [
       "array([0, 0, 0, 0, 0, 0, 0, 0, 0, 0, 0, 0, 0, 0, 0, 0, 0, 0, 0, 0, 0, 0,\n",
       "       0, 0, 0, 0, 0, 0, 0, 0, 1, 0, 0, 0, 0, 0, 0, 0, 0, 0, 0, 0, 0, 0,\n",
       "       0, 0, 0, 0, 0, 0, 0, 0, 0, 0, 0, 0, 0, 0, 0, 0, 0, 0, 0, 0, 0, 0,\n",
       "       0, 0, 0, 0, 0, 0, 0, 0, 0, 0, 0, 0, 0, 0, 0, 0, 0, 0, 0, 0, 0, 0,\n",
       "       0, 0, 0, 0, 0, 0, 0, 0, 0, 0, 0, 0, 0, 0, 0, 0, 0, 0, 0, 0, 0, 0,\n",
       "       0, 0, 1, 0, 0, 0, 0, 0, 0, 0, 0, 0, 0, 0, 1, 0, 1, 0], dtype=int64)"
      ]
     },
     "execution_count": 159,
     "metadata": {},
     "output_type": "execute_result"
    }
   ],
   "source": [
    "vectors[0]"
   ]
  },
  {
   "cell_type": "code",
   "execution_count": 160,
   "id": "13b397ae",
   "metadata": {},
   "outputs": [],
   "source": [
    "#calculate cosine distances"
   ]
  },
  {
   "cell_type": "code",
   "execution_count": 161,
   "id": "b1623bc2",
   "metadata": {},
   "outputs": [],
   "source": [
    "from sklearn.metrics.pairwise import cosine_similarity\n",
    "similarity=cosine_similarity(vectors)"
   ]
  },
  {
   "cell_type": "code",
   "execution_count": 162,
   "id": "0bdce695",
   "metadata": {},
   "outputs": [
    {
     "data": {
      "text/plain": [
       "[(49, 1.0), (52, 1.0), (55, 1.0), (63, 1.0), (68, 1.0)]"
      ]
     },
     "execution_count": 162,
     "metadata": {},
     "output_type": "execute_result"
    }
   ],
   "source": [
    "sorted(list(enumerate(similarity[0])),reverse=True,key=lambda x:x[1])[1:6]"
   ]
  },
  {
   "cell_type": "code",
   "execution_count": null,
   "id": "8939432c",
   "metadata": {},
   "outputs": [],
   "source": []
  },
  {
   "cell_type": "code",
   "execution_count": null,
   "id": "f89b7476",
   "metadata": {},
   "outputs": [],
   "source": []
  },
  {
   "cell_type": "code",
   "execution_count": 163,
   "id": "bb6d677b",
   "metadata": {},
   "outputs": [],
   "source": [
    "def recommend(job_role,location,salary_range,status):\n",
    "    filtered_df=df[(df['Job Roles']==job_role) & (df['Location']==location) &  (df['Salary'].between(*salary_range)) & (df['Employment Status']==status)]\n",
    "    job_index=filtered_df.index[0]\n",
    "    distances=similarity[job_index]\n",
    "    jobs_list=sorted(list(enumerate(distances)),reverse=True,key=lambda x:x[1])[1:11]\n",
    "    \n",
    "    for i in jobs_list:\n",
    "        print(i[0])"
   ]
  },
  {
   "cell_type": "code",
   "execution_count": 228,
   "id": "420ea165",
   "metadata": {},
   "outputs": [
    {
     "ename": "IndexError",
     "evalue": "index 0 is out of bounds for axis 0 with size 0",
     "output_type": "error",
     "traceback": [
      "\u001b[1;31m---------------------------------------------------------------------------\u001b[0m",
      "\u001b[1;31mIndexError\u001b[0m                                Traceback (most recent call last)",
      "Cell \u001b[1;32mIn[228], line 1\u001b[0m\n\u001b[1;32m----> 1\u001b[0m \u001b[43mrecommend\u001b[49m\u001b[43m(\u001b[49m\u001b[38;5;124;43m'\u001b[39;49m\u001b[38;5;124;43mWeb\u001b[39;49m\u001b[38;5;124;43m'\u001b[39;49m\u001b[43m,\u001b[49m\u001b[38;5;124;43m'\u001b[39;49m\u001b[38;5;124;43mBangalore\u001b[39;49m\u001b[38;5;124;43m'\u001b[39;49m\u001b[43m,\u001b[49m\u001b[43m(\u001b[49m\u001b[38;5;241;43m0\u001b[39;49m\u001b[43m,\u001b[49m\u001b[38;5;241;43m50000\u001b[39;49m\u001b[43m)\u001b[49m\u001b[43m,\u001b[49m\u001b[38;5;124;43m'\u001b[39;49m\u001b[38;5;124;43mIntern\u001b[39;49m\u001b[38;5;124;43m'\u001b[39;49m\u001b[43m)\u001b[49m\n",
      "Cell \u001b[1;32mIn[163], line 3\u001b[0m, in \u001b[0;36mrecommend\u001b[1;34m(job_role, location, salary_range, status)\u001b[0m\n\u001b[0;32m      1\u001b[0m \u001b[38;5;28;01mdef\u001b[39;00m \u001b[38;5;21mrecommend\u001b[39m(job_role,location,salary_range,status):\n\u001b[0;32m      2\u001b[0m     filtered_df\u001b[38;5;241m=\u001b[39mdf[(df[\u001b[38;5;124m'\u001b[39m\u001b[38;5;124mJob Roles\u001b[39m\u001b[38;5;124m'\u001b[39m]\u001b[38;5;241m==\u001b[39mjob_role) \u001b[38;5;241m&\u001b[39m (df[\u001b[38;5;124m'\u001b[39m\u001b[38;5;124mLocation\u001b[39m\u001b[38;5;124m'\u001b[39m]\u001b[38;5;241m==\u001b[39mlocation) \u001b[38;5;241m&\u001b[39m  (df[\u001b[38;5;124m'\u001b[39m\u001b[38;5;124mSalary\u001b[39m\u001b[38;5;124m'\u001b[39m]\u001b[38;5;241m.\u001b[39mbetween(\u001b[38;5;241m*\u001b[39msalary_range)) \u001b[38;5;241m&\u001b[39m (df[\u001b[38;5;124m'\u001b[39m\u001b[38;5;124mEmployment Status\u001b[39m\u001b[38;5;124m'\u001b[39m]\u001b[38;5;241m==\u001b[39mstatus)]\n\u001b[1;32m----> 3\u001b[0m     job_index\u001b[38;5;241m=\u001b[39m\u001b[43mfiltered_df\u001b[49m\u001b[38;5;241;43m.\u001b[39;49m\u001b[43mindex\u001b[49m\u001b[43m[\u001b[49m\u001b[38;5;241;43m0\u001b[39;49m\u001b[43m]\u001b[49m\n\u001b[0;32m      4\u001b[0m     distances\u001b[38;5;241m=\u001b[39msimilarity[job_index]\n\u001b[0;32m      5\u001b[0m     jobs_list\u001b[38;5;241m=\u001b[39m\u001b[38;5;28msorted\u001b[39m(\u001b[38;5;28mlist\u001b[39m(\u001b[38;5;28menumerate\u001b[39m(distances)),reverse\u001b[38;5;241m=\u001b[39m\u001b[38;5;28;01mTrue\u001b[39;00m,key\u001b[38;5;241m=\u001b[39m\u001b[38;5;28;01mlambda\u001b[39;00m x:x[\u001b[38;5;241m1\u001b[39m])[\u001b[38;5;241m1\u001b[39m:\u001b[38;5;241m11\u001b[39m]\n",
      "File \u001b[1;32mC:\\Python310\\lib\\site-packages\\pandas\\core\\indexes\\base.py:5320\u001b[0m, in \u001b[0;36mIndex.__getitem__\u001b[1;34m(self, key)\u001b[0m\n\u001b[0;32m   5317\u001b[0m \u001b[38;5;28;01mif\u001b[39;00m is_integer(key) \u001b[38;5;129;01mor\u001b[39;00m is_float(key):\n\u001b[0;32m   5318\u001b[0m     \u001b[38;5;66;03m# GH#44051 exclude bool, which would return a 2d ndarray\u001b[39;00m\n\u001b[0;32m   5319\u001b[0m     key \u001b[38;5;241m=\u001b[39m com\u001b[38;5;241m.\u001b[39mcast_scalar_indexer(key, warn_float\u001b[38;5;241m=\u001b[39m\u001b[38;5;28;01mTrue\u001b[39;00m)\n\u001b[1;32m-> 5320\u001b[0m     \u001b[38;5;28;01mreturn\u001b[39;00m \u001b[43mgetitem\u001b[49m\u001b[43m(\u001b[49m\u001b[43mkey\u001b[49m\u001b[43m)\u001b[49m\n\u001b[0;32m   5322\u001b[0m \u001b[38;5;28;01mif\u001b[39;00m \u001b[38;5;28misinstance\u001b[39m(key, \u001b[38;5;28mslice\u001b[39m):\n\u001b[0;32m   5323\u001b[0m     \u001b[38;5;66;03m# This case is separated from the conditional above to avoid\u001b[39;00m\n\u001b[0;32m   5324\u001b[0m     \u001b[38;5;66;03m# pessimization com.is_bool_indexer and ndim checks.\u001b[39;00m\n\u001b[0;32m   5325\u001b[0m     result \u001b[38;5;241m=\u001b[39m getitem(key)\n",
      "\u001b[1;31mIndexError\u001b[0m: index 0 is out of bounds for axis 0 with size 0"
     ]
    }
   ],
   "source": [
    "recommend('Web','Bangalore',(0,50000),'Intern')"
   ]
  },
  {
   "cell_type": "code",
   "execution_count": 230,
   "id": "049c115d",
   "metadata": {},
   "outputs": [
    {
     "data": {
      "text/plain": [
       "'Exposys Data Labs'"
      ]
     },
     "execution_count": 230,
     "metadata": {},
     "output_type": "execute_result"
    }
   ],
   "source": [
    "df.iloc[666]['Company Name']"
   ]
  },
  {
   "cell_type": "code",
   "execution_count": 169,
   "id": "dd6f3f37",
   "metadata": {},
   "outputs": [],
   "source": [
    "url_df=pd.read_csv('backup2_company_details.csv')\n",
    "url_df=url_df[['Company Name','Company Url','Company Logo']]"
   ]
  },
  {
   "cell_type": "code",
   "execution_count": 170,
   "id": "bd97d178",
   "metadata": {},
   "outputs": [
    {
     "data": {
      "text/plain": [
       "(990, 3)"
      ]
     },
     "execution_count": 170,
     "metadata": {},
     "output_type": "execute_result"
    }
   ],
   "source": [
    "url_df.shape"
   ]
  },
  {
   "cell_type": "code",
   "execution_count": 173,
   "id": "a6be7169",
   "metadata": {
    "scrolled": true
   },
   "outputs": [
    {
     "data": {
      "text/plain": [
       "Company Name      0\n",
       "Company Url     167\n",
       "Company Logo    310\n",
       "dtype: int64"
      ]
     },
     "execution_count": 173,
     "metadata": {},
     "output_type": "execute_result"
    }
   ],
   "source": [
    "url_df.isnull().sum()"
   ]
  },
  {
   "cell_type": "code",
   "execution_count": 174,
   "id": "7ed6c88b",
   "metadata": {},
   "outputs": [],
   "source": [
    "url_df['Company Url'].fillna('https://www.linkedin.com/',inplace=True)"
   ]
  },
  {
   "cell_type": "code",
   "execution_count": 175,
   "id": "530df25b",
   "metadata": {},
   "outputs": [],
   "source": [
    "url_df['Company Logo'].fillna('https://upload.wikimedia.org/wikipedia/commons/thumb/8/81/LinkedIn_icon.svg/108px-LinkedIn_icon.svg.png?20210220164014',inplace=True)"
   ]
  },
  {
   "cell_type": "code",
   "execution_count": 203,
   "id": "3a25198e",
   "metadata": {},
   "outputs": [
    {
     "data": {
      "text/plain": [
       "Company Name    0\n",
       "Company Url     0\n",
       "Company Logo    0\n",
       "dtype: int64"
      ]
     },
     "execution_count": 203,
     "metadata": {},
     "output_type": "execute_result"
    }
   ],
   "source": [
    "url_df.isnull().sum()"
   ]
  },
  {
   "cell_type": "code",
   "execution_count": 202,
   "id": "726617d7",
   "metadata": {},
   "outputs": [
    {
     "data": {
      "text/html": [
       "<div>\n",
       "<style scoped>\n",
       "    .dataframe tbody tr th:only-of-type {\n",
       "        vertical-align: middle;\n",
       "    }\n",
       "\n",
       "    .dataframe tbody tr th {\n",
       "        vertical-align: top;\n",
       "    }\n",
       "\n",
       "    .dataframe thead th {\n",
       "        text-align: right;\n",
       "    }\n",
       "</style>\n",
       "<table border=\"1\" class=\"dataframe\">\n",
       "  <thead>\n",
       "    <tr style=\"text-align: right;\">\n",
       "      <th></th>\n",
       "      <th>Company Name</th>\n",
       "      <th>Company Url</th>\n",
       "      <th>Company Logo</th>\n",
       "    </tr>\n",
       "  </thead>\n",
       "  <tbody>\n",
       "    <tr>\n",
       "      <th>0</th>\n",
       "      <td>Zibtek</td>\n",
       "      <td>zibtek.com</td>\n",
       "      <td>https://logo.clearbit.com/zibtek.com</td>\n",
       "    </tr>\n",
       "    <tr>\n",
       "      <th>1</th>\n",
       "      <td>LTI</td>\n",
       "      <td>l-tike.com</td>\n",
       "      <td>https://logo.clearbit.com/l-tike.com</td>\n",
       "    </tr>\n",
       "    <tr>\n",
       "      <th>2</th>\n",
       "      <td>Siemens</td>\n",
       "      <td>siemens.com</td>\n",
       "      <td>https://logo.clearbit.com/siemens.com</td>\n",
       "    </tr>\n",
       "    <tr>\n",
       "      <th>3</th>\n",
       "      <td>Infosys</td>\n",
       "      <td>infosys.com</td>\n",
       "      <td>https://logo.clearbit.com/infosys.com</td>\n",
       "    </tr>\n",
       "    <tr>\n",
       "      <th>4</th>\n",
       "      <td>LTI</td>\n",
       "      <td>l-tike.com</td>\n",
       "      <td>https://logo.clearbit.com/l-tike.com</td>\n",
       "    </tr>\n",
       "  </tbody>\n",
       "</table>\n",
       "</div>"
      ],
      "text/plain": [
       "  Company Name  Company Url                           Company Logo\n",
       "0       Zibtek   zibtek.com   https://logo.clearbit.com/zibtek.com\n",
       "1          LTI   l-tike.com   https://logo.clearbit.com/l-tike.com\n",
       "2      Siemens  siemens.com  https://logo.clearbit.com/siemens.com\n",
       "3      Infosys  infosys.com  https://logo.clearbit.com/infosys.com\n",
       "4          LTI   l-tike.com   https://logo.clearbit.com/l-tike.com"
      ]
     },
     "execution_count": 202,
     "metadata": {},
     "output_type": "execute_result"
    }
   ],
   "source": [
    "url_df.head()"
   ]
  },
  {
   "cell_type": "code",
   "execution_count": 216,
   "id": "902af9d6",
   "metadata": {},
   "outputs": [
    {
     "data": {
      "text/plain": [
       "Company Name                                               Lenovo\n",
       "Company Url                                         lenovo.com.cn\n",
       "Company Logo    https://upload.wikimedia.org/wikipedia/commons...\n",
       "Name: 675, dtype: object"
      ]
     },
     "execution_count": 216,
     "metadata": {},
     "output_type": "execute_result"
    }
   ],
   "source": [
    "url_df.iloc[675]"
   ]
  },
  {
   "cell_type": "code",
   "execution_count": 217,
   "id": "8394233c",
   "metadata": {},
   "outputs": [],
   "source": [
    "import pickle"
   ]
  },
  {
   "cell_type": "code",
   "execution_count": 219,
   "id": "aaf55bfa",
   "metadata": {},
   "outputs": [],
   "source": [
    "pickle.dump(df.to_dict(),open('jobs.pkl','wb'))"
   ]
  },
  {
   "cell_type": "code",
   "execution_count": 227,
   "id": "a7b78e51",
   "metadata": {},
   "outputs": [],
   "source": [
    "pickle.dump(similarity,open('similarity.pkl','wb'))"
   ]
  },
  {
   "cell_type": "code",
   "execution_count": 231,
   "id": "fde0e25c",
   "metadata": {},
   "outputs": [],
   "source": [
    "pickle.dump(url_df.to_dict(),open('urls.pkl','wb'))"
   ]
  },
  {
   "cell_type": "code",
   "execution_count": 9,
   "id": "79bd9197",
   "metadata": {},
   "outputs": [],
   "source": [
    "filtered_df=df[(df['Job Roles']=='SDE') & (df['Location']=='Bangalore') &  (df['Salary'].between(50001, 100000)) & (df['Employment Status']=='Intern')]"
   ]
  },
  {
   "cell_type": "code",
   "execution_count": 10,
   "id": "52783c40",
   "metadata": {},
   "outputs": [
    {
     "data": {
      "text/html": [
       "<div>\n",
       "<style scoped>\n",
       "    .dataframe tbody tr th:only-of-type {\n",
       "        vertical-align: middle;\n",
       "    }\n",
       "\n",
       "    .dataframe tbody tr th {\n",
       "        vertical-align: top;\n",
       "    }\n",
       "\n",
       "    .dataframe thead th {\n",
       "        text-align: right;\n",
       "    }\n",
       "</style>\n",
       "<table border=\"1\" class=\"dataframe\">\n",
       "  <thead>\n",
       "    <tr style=\"text-align: right;\">\n",
       "      <th></th>\n",
       "      <th>Index</th>\n",
       "      <th>Rating</th>\n",
       "      <th>Company Name</th>\n",
       "      <th>Job Title</th>\n",
       "      <th>Salary</th>\n",
       "      <th>Salaries Reported</th>\n",
       "      <th>Location</th>\n",
       "      <th>Employment Status</th>\n",
       "      <th>Job Roles</th>\n",
       "    </tr>\n",
       "  </thead>\n",
       "  <tbody>\n",
       "    <tr>\n",
       "      <th>1</th>\n",
       "      <td>1</td>\n",
       "      <td>3.8</td>\n",
       "      <td>LTI</td>\n",
       "      <td>Python Software Engineer - Intern</td>\n",
       "      <td>60000</td>\n",
       "      <td>1</td>\n",
       "      <td>Bangalore</td>\n",
       "      <td>Intern</td>\n",
       "      <td>SDE</td>\n",
       "    </tr>\n",
       "  </tbody>\n",
       "</table>\n",
       "</div>"
      ],
      "text/plain": [
       "   Index  Rating Company Name                          Job Title  Salary  \\\n",
       "1      1     3.8          LTI  Python Software Engineer - Intern   60000   \n",
       "\n",
       "   Salaries Reported   Location Employment Status Job Roles  \n",
       "1                  1  Bangalore            Intern       SDE  "
      ]
     },
     "execution_count": 10,
     "metadata": {},
     "output_type": "execute_result"
    }
   ],
   "source": [
    "filtered_df"
   ]
  },
  {
   "cell_type": "code",
   "execution_count": null,
   "id": "6f9e3f28",
   "metadata": {},
   "outputs": [],
   "source": []
  }
 ],
 "metadata": {
  "kernelspec": {
   "display_name": "Python 3 (ipykernel)",
   "language": "python",
   "name": "python3"
  },
  "language_info": {
   "codemirror_mode": {
    "name": "ipython",
    "version": 3
   },
   "file_extension": ".py",
   "mimetype": "text/x-python",
   "name": "python",
   "nbconvert_exporter": "python",
   "pygments_lexer": "ipython3",
   "version": "3.10.8"
  }
 },
 "nbformat": 4,
 "nbformat_minor": 5
}
