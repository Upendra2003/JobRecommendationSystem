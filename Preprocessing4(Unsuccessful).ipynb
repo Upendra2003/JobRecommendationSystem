{
 "cells": [
  {
   "cell_type": "code",
   "execution_count": 2,
   "id": "ae75b764",
   "metadata": {},
   "outputs": [],
   "source": [
    "import pandas as pd\n",
    "import numpy as np\n",
    "import seaborn as sns"
   ]
  },
  {
   "cell_type": "code",
   "execution_count": 3,
   "id": "ed91f688",
   "metadata": {},
   "outputs": [],
   "source": [
    "df=pd.read_csv('backup3.csv')"
   ]
  },
  {
   "cell_type": "code",
   "execution_count": 4,
   "id": "1c348117",
   "metadata": {},
   "outputs": [],
   "source": [
    "df=df[['Company Name','tags','Salary','Job Roles']]"
   ]
  },
  {
   "cell_type": "code",
   "execution_count": 27,
   "id": "15e54c8d",
   "metadata": {},
   "outputs": [
    {
     "data": {
      "text/html": [
       "<div>\n",
       "<style scoped>\n",
       "    .dataframe tbody tr th:only-of-type {\n",
       "        vertical-align: middle;\n",
       "    }\n",
       "\n",
       "    .dataframe tbody tr th {\n",
       "        vertical-align: top;\n",
       "    }\n",
       "\n",
       "    .dataframe thead th {\n",
       "        text-align: right;\n",
       "    }\n",
       "</style>\n",
       "<table border=\"1\" class=\"dataframe\">\n",
       "  <thead>\n",
       "    <tr style=\"text-align: right;\">\n",
       "      <th></th>\n",
       "      <th>Company Name</th>\n",
       "      <th>tags</th>\n",
       "      <th>Salary</th>\n",
       "      <th>Job Roles</th>\n",
       "    </tr>\n",
       "  </thead>\n",
       "  <tbody>\n",
       "    <tr>\n",
       "      <th>0</th>\n",
       "      <td>Zibtek</td>\n",
       "      <td>['mobile', 'software', 'developer', 'bangalore...</td>\n",
       "      <td>200000</td>\n",
       "      <td>['SDE']</td>\n",
       "    </tr>\n",
       "    <tr>\n",
       "      <th>1</th>\n",
       "      <td>LTI</td>\n",
       "      <td>['python', 'software', 'engineer', '-', 'inter...</td>\n",
       "      <td>60000</td>\n",
       "      <td>['SDE']</td>\n",
       "    </tr>\n",
       "    <tr>\n",
       "      <th>2</th>\n",
       "      <td>Siemens</td>\n",
       "      <td>['software', 'engineer(python', 'developer)', ...</td>\n",
       "      <td>1800000</td>\n",
       "      <td>['SDE']</td>\n",
       "    </tr>\n",
       "    <tr>\n",
       "      <th>3</th>\n",
       "      <td>Infosys</td>\n",
       "      <td>['senior', 'python', 'developer/software', 'en...</td>\n",
       "      <td>500000</td>\n",
       "      <td>['SDE']</td>\n",
       "    </tr>\n",
       "    <tr>\n",
       "      <th>4</th>\n",
       "      <td>LTI</td>\n",
       "      <td>['senior', 'python', 'developer/software', 'en...</td>\n",
       "      <td>744000</td>\n",
       "      <td>['SDE']</td>\n",
       "    </tr>\n",
       "  </tbody>\n",
       "</table>\n",
       "</div>"
      ],
      "text/plain": [
       "  Company Name                                               tags   Salary  \\\n",
       "0       Zibtek  ['mobile', 'software', 'developer', 'bangalore...   200000   \n",
       "1          LTI  ['python', 'software', 'engineer', '-', 'inter...    60000   \n",
       "2      Siemens  ['software', 'engineer(python', 'developer)', ...  1800000   \n",
       "3      Infosys  ['senior', 'python', 'developer/software', 'en...   500000   \n",
       "4          LTI  ['senior', 'python', 'developer/software', 'en...   744000   \n",
       "\n",
       "  Job Roles  \n",
       "0   ['SDE']  \n",
       "1   ['SDE']  \n",
       "2   ['SDE']  \n",
       "3   ['SDE']  \n",
       "4   ['SDE']  "
      ]
     },
     "execution_count": 27,
     "metadata": {},
     "output_type": "execute_result"
    }
   ],
   "source": [
    "df.head()"
   ]
  },
  {
   "cell_type": "code",
   "execution_count": 6,
   "id": "ed6d1f95",
   "metadata": {},
   "outputs": [],
   "source": [
    "#converting the tags into lower case\n",
    "df['tags']=df['tags'].apply(lambda x:x.lower())"
   ]
  },
  {
   "cell_type": "markdown",
   "id": "b107d0ff",
   "metadata": {},
   "source": [
    "# Applying vectorization"
   ]
  },
  {
   "cell_type": "code",
   "execution_count": 7,
   "id": "c2c0ef97",
   "metadata": {},
   "outputs": [],
   "source": [
    "from sklearn.feature_extraction.text import CountVectorizer\n",
    "cv=CountVectorizer()"
   ]
  },
  {
   "cell_type": "code",
   "execution_count": 8,
   "id": "3815be28",
   "metadata": {},
   "outputs": [],
   "source": [
    "vectors=cv.fit_transform(df['tags']).toarray()"
   ]
  },
  {
   "cell_type": "code",
   "execution_count": 9,
   "id": "739963b0",
   "metadata": {},
   "outputs": [
    {
     "data": {
      "text/plain": [
       "(990, 78)"
      ]
     },
     "execution_count": 9,
     "metadata": {},
     "output_type": "execute_result"
    }
   ],
   "source": [
    "vectors.shape"
   ]
  },
  {
   "cell_type": "markdown",
   "id": "d11b576a",
   "metadata": {},
   "source": [
    "find the cosine distances between the vectors"
   ]
  },
  {
   "cell_type": "code",
   "execution_count": 10,
   "id": "c846172e",
   "metadata": {},
   "outputs": [],
   "source": [
    "from sklearn.metrics.pairwise import cosine_similarity\n",
    "similarities=cosine_similarity(vectors)"
   ]
  },
  {
   "cell_type": "code",
   "execution_count": null,
   "id": "8d077adb",
   "metadata": {},
   "outputs": [],
   "source": []
  },
  {
   "cell_type": "markdown",
   "id": "3df3d5ac",
   "metadata": {},
   "source": [
    "# Recommend Jobs"
   ]
  },
  {
   "cell_type": "code",
   "execution_count": 26,
   "id": "7e88d3f3",
   "metadata": {},
   "outputs": [
    {
     "name": "stdout",
     "output_type": "stream",
     "text": [
      "1\n",
      "['mobile', 'software', 'developer', 'bangalore'] 200000 SDE\n",
      "Empty DataFrame\n",
      "Columns: [Company Name, tags, Salary, Job Roles]\n",
      "Index: []\n",
      "No matching job found for the given criteria.\n"
     ]
    }
   ],
   "source": [
    "def recommend(tags, salary, job_roles):\n",
    "    try:\n",
    "        # Filter the DataFrame based on multiple conditions\n",
    "        print(1)\n",
    "        print(tags,salary,job_roles)\n",
    "        filtered_df = df[(df['Salary'] == salary) & (df['Job Roles'] == job_roles)]\n",
    "        print(filtered_df)\n",
    "        # Check if any matching jobs are found\n",
    "        if not filtered_df.empty:\n",
    "            job_index = filtered_df.index[0]\n",
    "            \n",
    "            # Check if the job_index is within the valid range\n",
    "            if 0 <= job_index < len(similarities):\n",
    "                distances = similarities[job_index]\n",
    "                job_list = sorted(list(enumerate(distances)), reverse=True, key=lambda x: x[1])[1:6]\n",
    "\n",
    "                # Print the recommended companies\n",
    "                for i in job_list:\n",
    "                    print(df.iloc[i[0]]['Company Name'])\n",
    "            else:\n",
    "                print(f\"Invalid job index: {job_index}\")\n",
    "        else:\n",
    "            print(f\"No matching job found for the given criteria.\")\n",
    "    except IndexError:\n",
    "        print(f\"An IndexError occurred. Please check your data and code.\")\n",
    "    except Exception as e:\n",
    "        print(f\"An unexpected error occurred: {e}\")\n",
    "\n",
    "# Example usage\n",
    "recommend(['mobile', 'software', 'developer', 'bangalore'], 200000, 'SDE')\n"
   ]
  },
  {
   "cell_type": "code",
   "execution_count": 17,
   "id": "3d7d8a7e",
   "metadata": {},
   "outputs": [
    {
     "name": "stdout",
     "output_type": "stream",
     "text": [
      "No matching job found for the given criteria.\n"
     ]
    }
   ],
   "source": [
    "recommend('Bangalore','Intern','SDE')"
   ]
  },
  {
   "cell_type": "code",
   "execution_count": null,
   "id": "e3098e46",
   "metadata": {},
   "outputs": [],
   "source": []
  }
 ],
 "metadata": {
  "kernelspec": {
   "display_name": "Python 3 (ipykernel)",
   "language": "python",
   "name": "python3"
  },
  "language_info": {
   "codemirror_mode": {
    "name": "ipython",
    "version": 3
   },
   "file_extension": ".py",
   "mimetype": "text/x-python",
   "name": "python",
   "nbconvert_exporter": "python",
   "pygments_lexer": "ipython3",
   "version": "3.10.8"
  }
 },
 "nbformat": 4,
 "nbformat_minor": 5
}
